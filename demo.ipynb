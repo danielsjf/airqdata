{
 "cells": [
  {
   "cell_type": "markdown",
   "metadata": {},
   "source": [
    "# Airqdata: analysis tools for air quality data"
   ]
  },
  {
   "cell_type": "markdown",
   "metadata": {},
   "source": [
    "Notebook version with output and functional links: [https://nbviewer.jupyter.org/gist/dr-1/450c275b1ad2cbf88e9c4325c5d032bc](https://nbviewer.jupyter.org/gist/dr-1/450c275b1ad2cbf88e9c4325c5d032bc)"
   ]
  },
  {
   "cell_type": "markdown",
   "metadata": {},
   "source": [
    "**Table of contents**  \n",
    "[InfluencAir / Luftdaten.info resources](#InfluencAir-/-Luftdaten.info-resources)  \n",
    "[Irceline.be resources](#Irceline.be-resources)  \n",
    "[Combining the sources](#Combining-the-sources)"
   ]
  },
  {
   "cell_type": "code",
   "execution_count": null,
   "metadata": {},
   "outputs": [],
   "source": [
    "# Prepare notebook to render plots\n",
    "%matplotlib inline"
   ]
  },
  {
   "cell_type": "code",
   "execution_count": null,
   "metadata": {},
   "outputs": [],
   "source": [
    "import pandas as pd\n",
    "\n",
    "# Import the analysis package to make it available in the notebook\n",
    "import airqdata\n",
    "\n",
    "# More convenient in some cases: import individual names from the package to avoid having\n",
    "# to prepend them with \"airqdata.\"\n",
    "from airqdata import (compare_nearest_irceline_sensors, compare_sensor_data, describe,\n",
    "                      influencair, irceline, luftdaten)\n",
    "\n",
    "# Limit output length for readability\n",
    "pd.set_option(\"display.max_rows\", 10)"
   ]
  },
  {
   "cell_type": "markdown",
   "metadata": {},
   "source": [
    "## InfluencAir / Luftdaten.info resources"
   ]
  },
  {
   "cell_type": "markdown",
   "metadata": {},
   "source": [
    "### Download list of sensors from InfluencAir's Google Sheet"
   ]
  },
  {
   "cell_type": "code",
   "execution_count": null,
   "metadata": {},
   "outputs": [],
   "source": [
    "influencair.Metadata(refresh_cache=True)\n",
    "sensor_info = influencair.Metadata.sensors\n",
    "sensor_info.head(4)"
   ]
  },
  {
   "cell_type": "code",
   "execution_count": null,
   "metadata": {},
   "outputs": [],
   "source": [
    "len(sensor_info)"
   ]
  },
  {
   "cell_type": "markdown",
   "metadata": {},
   "source": [
    "### Create a Sensor object and get the sensor's metadata and current measurements"
   ]
  },
  {
   "cell_type": "code",
   "execution_count": null,
   "metadata": {},
   "outputs": [],
   "source": [
    "# PM sensor in Anderlecht\n",
    "demo_sensor_id = \"3803\"\n",
    "demo_sensor = influencair.Sensor(demo_sensor_id, refresh_cache=True)"
   ]
  },
  {
   "cell_type": "code",
   "execution_count": null,
   "metadata": {},
   "outputs": [],
   "source": [
    "demo_sensor.influencair_metadata"
   ]
  },
  {
   "cell_type": "code",
   "execution_count": null,
   "metadata": {},
   "outputs": [],
   "source": [
    "demo_sensor.luftdaten_metadata"
   ]
  },
  {
   "cell_type": "code",
   "execution_count": null,
   "metadata": {},
   "outputs": [],
   "source": [
    "demo_sensor.luftdaten_metadata_url"
   ]
  },
  {
   "cell_type": "code",
   "execution_count": null,
   "metadata": {},
   "outputs": [],
   "source": [
    "# Luftdaten.info provides current measurements along with the sensor metadata.\n",
    "demo_sensor.current_measurements"
   ]
  },
  {
   "cell_type": "markdown",
   "metadata": {},
   "source": [
    "### Open data history graphs of the sensor in a browser"
   ]
  },
  {
   "cell_type": "code",
   "execution_count": null,
   "metadata": {},
   "outputs": [],
   "source": [
    "demo_sensor.open_madavi_graphs()"
   ]
  },
  {
   "cell_type": "markdown",
   "metadata": {},
   "source": [
    "### Retrieve data history\n",
    "Data are retrieved from cache or server and then cleaned."
   ]
  },
  {
   "cell_type": "code",
   "execution_count": null,
   "metadata": {},
   "outputs": [],
   "source": [
    "demo_sensor.get_measurements(start_date=\"2018-11-04\",\n",
    "                             end_date=\"2018-11-08\")"
   ]
  },
  {
   "cell_type": "markdown",
   "metadata": {},
   "source": [
    "Now we can analyze the measurement data.\n",
    "### Inspect, summarize and plot data"
   ]
  },
  {
   "cell_type": "code",
   "execution_count": null,
   "metadata": {},
   "outputs": [],
   "source": [
    "demo_sensor.measurements"
   ]
  },
  {
   "cell_type": "code",
   "execution_count": null,
   "metadata": {},
   "outputs": [],
   "source": [
    "describe(demo_sensor.measurements)"
   ]
  },
  {
   "cell_type": "code",
   "execution_count": null,
   "metadata": {},
   "outputs": [],
   "source": [
    "demo_sensor.plot_measurements()"
   ]
  },
  {
   "cell_type": "markdown",
   "metadata": {},
   "source": [
    "### Inspect, summarize and plot hourly means"
   ]
  },
  {
   "cell_type": "code",
   "execution_count": null,
   "metadata": {},
   "outputs": [],
   "source": [
    "demo_sensor.get_hourly_means()"
   ]
  },
  {
   "cell_type": "code",
   "execution_count": null,
   "metadata": {},
   "outputs": [],
   "source": [
    "describe(demo_sensor.get_hourly_means())"
   ]
  },
  {
   "cell_type": "code",
   "execution_count": null,
   "metadata": {},
   "outputs": [],
   "source": [
    "demo_sensor.plot_hourly_means()"
   ]
  },
  {
   "cell_type": "markdown",
   "metadata": {},
   "source": [
    "### Check distribution of sample intervals\n",
    "Time series analyses tend to be easier with regularly spaced intervals. How regular are ours? Ideally all data points will be in the same interval group."
   ]
  },
  {
   "cell_type": "code",
   "execution_count": null,
   "metadata": {},
   "outputs": [],
   "source": [
    "demo_sensor.intervals.head(10)"
   ]
  },
  {
   "cell_type": "markdown",
   "metadata": {},
   "source": [
    "### List sensors near a given location"
   ]
  },
  {
   "cell_type": "markdown",
   "metadata": {},
   "source": [
    "Defaults to searching within an 8 kilometer radius around the center of Brussels"
   ]
  },
  {
   "cell_type": "code",
   "execution_count": null,
   "metadata": {},
   "outputs": [],
   "source": [
    "luftdaten.search_proximity()"
   ]
  },
  {
   "cell_type": "markdown",
   "metadata": {},
   "source": [
    "Using different location parameters"
   ]
  },
  {
   "cell_type": "code",
   "execution_count": null,
   "metadata": {},
   "outputs": [],
   "source": [
    "luftdaten.search_proximity(lat=51.22, lon=4.41, radius=5)  # Antwerp"
   ]
  },
  {
   "cell_type": "code",
   "execution_count": null,
   "metadata": {},
   "outputs": [],
   "source": [
    "(near_sensors,\n",
    " hourly_means) = luftdaten.evaluate_near_sensors(start_date=\"2018-11-10\",\n",
    "                                                 end_date=\"2018-11-13\",\n",
    "                                                 radius=1,\n",
    "                                                 quiet=True)"
   ]
  },
  {
   "cell_type": "code",
   "execution_count": null,
   "metadata": {},
   "outputs": [],
   "source": [
    "hourly_means"
   ]
  },
  {
   "cell_type": "markdown",
   "metadata": {},
   "source": [
    "## Irceline.be resources"
   ]
  },
  {
   "cell_type": "markdown",
   "metadata": {},
   "source": [
    "### Get IRCELINE metadata\n",
    "IRCELINE provides information about\n",
    "- the phenomena it measures\n",
    "- the stations where those phenomena are measured\n",
    "- the sensors that measure them (represented as time series)"
   ]
  },
  {
   "cell_type": "code",
   "execution_count": null,
   "metadata": {},
   "outputs": [],
   "source": [
    "irceline.Metadata()"
   ]
  },
  {
   "cell_type": "code",
   "execution_count": null,
   "metadata": {},
   "outputs": [],
   "source": [
    "irceline.Metadata.phenomena"
   ]
  },
  {
   "cell_type": "code",
   "execution_count": null,
   "metadata": {},
   "outputs": [],
   "source": [
    "irceline.Metadata.stations"
   ]
  },
  {
   "cell_type": "code",
   "execution_count": null,
   "metadata": {},
   "outputs": [],
   "source": [
    "irceline.Metadata.get_stations_by_name(\"bru\")"
   ]
  },
  {
   "cell_type": "code",
   "execution_count": null,
   "metadata": {},
   "outputs": [],
   "source": [
    "irceline.Metadata.time_series"
   ]
  },
  {
   "cell_type": "markdown",
   "metadata": {},
   "source": [
    "### How many stations measure a given phenomenon?"
   ]
  },
  {
   "cell_type": "code",
   "execution_count": null,
   "metadata": {},
   "outputs": [],
   "source": [
    "irceline.Metadata.time_series[\"phenomenon\"].value_counts()"
   ]
  },
  {
   "cell_type": "markdown",
   "metadata": {},
   "source": [
    "### How many phenomena does a given station measure?"
   ]
  },
  {
   "cell_type": "code",
   "execution_count": null,
   "metadata": {},
   "outputs": [],
   "source": [
    "irceline.Metadata.time_series[\"station_label\"].value_counts().head()"
   ]
  },
  {
   "cell_type": "code",
   "execution_count": null,
   "metadata": {},
   "outputs": [],
   "source": [
    "pd.set_option(\"display.max_rows\", 6)"
   ]
  },
  {
   "cell_type": "markdown",
   "metadata": {},
   "source": [
    "### Where is a given phenomenon measured?"
   ]
  },
  {
   "cell_type": "code",
   "execution_count": null,
   "metadata": {},
   "outputs": [],
   "source": [
    "irceline.Metadata.query_time_series(phenomenon=\"ethylbenzene\")"
   ]
  },
  {
   "cell_type": "markdown",
   "metadata": {},
   "source": [
    "### Where is PM2.5 measured?"
   ]
  },
  {
   "cell_type": "code",
   "execution_count": null,
   "metadata": {
    "scrolled": true
   },
   "outputs": [],
   "source": [
    "irceline.Metadata.get_pm25_time_series()"
   ]
  },
  {
   "cell_type": "markdown",
   "metadata": {},
   "source": [
    "### Where is PM10 measured?"
   ]
  },
  {
   "cell_type": "code",
   "execution_count": null,
   "metadata": {
    "scrolled": true
   },
   "outputs": [],
   "source": [
    "irceline.Metadata.get_pm10_time_series()"
   ]
  },
  {
   "cell_type": "markdown",
   "metadata": {},
   "source": [
    "### What are the closest locations to Etterbeek where IRCELINE measures NO₂?\n",
    "Using a location in Etterbeek as a reference point: 50.837°N 4.39°E"
   ]
  },
  {
   "cell_type": "code",
   "execution_count": null,
   "metadata": {},
   "outputs": [],
   "source": [
    "irceline.Metadata.query_time_series(\"nitrogen dioxide\",\n",
    "                                    lat_nearest=50.837,\n",
    "                                    lon_nearest=4.39)"
   ]
  },
  {
   "cell_type": "markdown",
   "metadata": {},
   "source": [
    "### What does the Uccle station measure?"
   ]
  },
  {
   "cell_type": "code",
   "execution_count": null,
   "metadata": {},
   "outputs": [],
   "source": [
    "irceline.Metadata.list_station_time_series(\"ucc\")"
   ]
  },
  {
   "cell_type": "markdown",
   "metadata": {},
   "source": [
    "### List stations near a location\n",
    "Defaults to coordinates and radius of Brussels"
   ]
  },
  {
   "cell_type": "code",
   "execution_count": null,
   "metadata": {
    "scrolled": true
   },
   "outputs": [],
   "source": [
    "irceline.Metadata.search_proximity(lat=50.9, lon=4.4, radius=3)"
   ]
  },
  {
   "cell_type": "markdown",
   "metadata": {},
   "source": [
    "### Create a sensor object from a time series, retrieve its measurements and plot them"
   ]
  },
  {
   "cell_type": "code",
   "execution_count": null,
   "metadata": {},
   "outputs": [],
   "source": [
    "irceline_demo_sensor = irceline.Sensor(\"6615\")  # An NO₂ sensor in Ixelles"
   ]
  },
  {
   "cell_type": "code",
   "execution_count": null,
   "metadata": {
    "scrolled": true
   },
   "outputs": [],
   "source": [
    "irceline_demo_sensor.get_measurements(start_date=\"2018-11-03\",\n",
    "                                      end_date=\"2018-11-08\")"
   ]
  },
  {
   "cell_type": "code",
   "execution_count": null,
   "metadata": {
    "scrolled": true
   },
   "outputs": [],
   "source": [
    "irceline_demo_sensor.measurements.head()"
   ]
  },
  {
   "cell_type": "code",
   "execution_count": null,
   "metadata": {},
   "outputs": [],
   "source": [
    "irceline_demo_sensor.plot_measurements()"
   ]
  },
  {
   "cell_type": "markdown",
   "metadata": {},
   "source": [
    "## Combining the sources"
   ]
  },
  {
   "cell_type": "code",
   "execution_count": null,
   "metadata": {},
   "outputs": [],
   "source": [
    "pd.set_option(\"display.max_rows\", 10)"
   ]
  },
  {
   "cell_type": "markdown",
   "metadata": {},
   "source": [
    "### Which are the closest IRCELINE sensors to a given luftdaten.info sensor that measure the same phenomenon?"
   ]
  },
  {
   "cell_type": "code",
   "execution_count": null,
   "metadata": {
    "scrolled": true
   },
   "outputs": [],
   "source": [
    "nearest = irceline.find_nearest_sensors(demo_sensor, quiet=True)\n",
    "nearest"
   ]
  },
  {
   "cell_type": "markdown",
   "metadata": {},
   "source": [
    "### Compare data of a luftdaten.info sensor and the nearest IRCELINE sensors"
   ]
  },
  {
   "cell_type": "code",
   "execution_count": null,
   "metadata": {},
   "outputs": [],
   "source": [
    "combined_data, plots = compare_nearest_irceline_sensors(demo_sensor,\n",
    "                                                        start_date=\"2018-11-03\",\n",
    "                                                        end_date=\"2018-11-10\",\n",
    "                                                        quiet=True)"
   ]
  },
  {
   "cell_type": "markdown",
   "metadata": {},
   "source": [
    "#### Correlation between the compared values"
   ]
  },
  {
   "cell_type": "code",
   "execution_count": null,
   "metadata": {},
   "outputs": [],
   "source": [
    "combined_data.corr()"
   ]
  },
  {
   "cell_type": "markdown",
   "metadata": {},
   "source": [
    "### Compare data from any sensors"
   ]
  },
  {
   "cell_type": "code",
   "execution_count": null,
   "metadata": {
    "scrolled": false
   },
   "outputs": [],
   "source": [
    "t_rh_sensor = luftdaten.Sensor(\"5562\")  # Temperature and humidity sensor at Brussels Central Station\n",
    "combined_data, plot = compare_sensor_data(sensors=[demo_sensor, t_rh_sensor, t_rh_sensor, irceline_demo_sensor],\n",
    "                                          phenomena=[\"pm2.5\", \"temperature\", \"humidity\", \"Nitrogen dioxide\"],\n",
    "                                          start_date=\"2018-11-05\",\n",
    "                                          end_date=\"2018-11-10\",\n",
    "                                          hourly_means=True,\n",
    "                                          quiet=True)"
   ]
  },
  {
   "cell_type": "code",
   "execution_count": null,
   "metadata": {},
   "outputs": [],
   "source": [
    "combined_data.head()"
   ]
  },
  {
   "cell_type": "markdown",
   "metadata": {},
   "source": [
    "#### Correlation between the compared values"
   ]
  },
  {
   "cell_type": "code",
   "execution_count": null,
   "metadata": {},
   "outputs": [],
   "source": [
    "combined_data.corr()"
   ]
  },
  {
   "cell_type": "markdown",
   "metadata": {},
   "source": [
    "## Export data for use in another environment"
   ]
  },
  {
   "cell_type": "code",
   "execution_count": null,
   "metadata": {},
   "outputs": [],
   "source": [
    "# demo_sensor.measurements.to_csv(\"demo_sensor_data.csv\")"
   ]
  },
  {
   "cell_type": "markdown",
   "metadata": {},
   "source": [
    "## More advanced analysis\n",
    "We can analyze the measurement data using Pandas' extensive capabilities."
   ]
  },
  {
   "cell_type": "markdown",
   "metadata": {},
   "source": [
    "### Get more data"
   ]
  },
  {
   "cell_type": "code",
   "execution_count": null,
   "metadata": {
    "scrolled": false
   },
   "outputs": [],
   "source": [
    "demo_sensor.get_measurements(start_date=\"2018-05-24\",\n",
    "                             end_date=\"2018-11-23\",\n",
    "                             quiet=True)\n",
    "data = demo_sensor.measurements[\"pm2.5\"]\n",
    "\n",
    "# Convert index to local time\n",
    "data.index = data.index.tz_convert(\"Europe/Brussels\")\n",
    "\n",
    "describe(data)"
   ]
  },
  {
   "cell_type": "markdown",
   "metadata": {},
   "source": [
    "### Summarize measurements by day of the week"
   ]
  },
  {
   "cell_type": "code",
   "execution_count": null,
   "metadata": {},
   "outputs": [],
   "source": [
    "# Produce a statistical summary of the data grouped by day of the week\n",
    "grouping_variable = data.index.dayofweek\n",
    "weekday_summary = (data\n",
    "                   .groupby(grouping_variable)\n",
    "                   .describe(percentiles=[0.01, 0.99]))\n",
    "\n",
    "# Show day names instead of integers\n",
    "import calendar\n",
    "calendar.setfirstweekday(1)  # Start week on Monday\n",
    "weekday_summary.index = [calendar.day_abbr[i]\n",
    "                         for i in weekday_summary.index]\n",
    "weekday_summary.index.name = \"Day of the Week (Local Time)\"\n",
    "\n",
    "# Get spread values\n",
    "yspread = [[(weekday_summary[\"mean\"] - weekday_summary[\"1%\"]),\n",
    "            (weekday_summary[\"99%\"] - weekday_summary[\"mean\"])]]\n",
    "\n",
    "# Plot\n",
    "title = (\"PM2.5 Concentration by Day of the Week\\n\"\n",
    "         \"Mean and 98% Range\\n\"\n",
    "         + demo_sensor.label)\n",
    "ax = (weekday_summary[\"mean\"]\n",
    "      .plot(kind=\"bar\", ylim=(0, None), color=\"black\", title=title,\n",
    "            yerr=yspread, legend=True, figsize=(12, 8)))\n",
    "ax.set(ylabel=\"Concentration in µg/m³\")\n",
    "ax.xaxis.grid(False);"
   ]
  },
  {
   "cell_type": "code",
   "execution_count": null,
   "metadata": {},
   "outputs": [],
   "source": [
    "weekday_summary"
   ]
  },
  {
   "cell_type": "markdown",
   "metadata": {},
   "source": [
    "### Summarize measurements by hour of the day"
   ]
  },
  {
   "cell_type": "code",
   "execution_count": null,
   "metadata": {
    "scrolled": false
   },
   "outputs": [],
   "source": [
    "# Analyze data\n",
    "grouping_variable = data.index.hour\n",
    "hour_summary = (data\n",
    "                .groupby(grouping_variable)\n",
    "                .describe(percentiles=[0.01, 0.99]))\n",
    "hour_summary.index.name = \"Hour of the Day (Local Time)\"\n",
    "\n",
    "# Get spread values\n",
    "yspread = [[(hour_summary[\"mean\"] - hour_summary[\"1%\"]),\n",
    "            (hour_summary[\"99%\"] - hour_summary[\"mean\"])]]\n",
    "\n",
    "# Plot\n",
    "title = (\"PM2.5 Concentration by Hour of the Day\\n\"\n",
    "         \"Mean and 98% Range\\n\"\n",
    "         + demo_sensor.label)\n",
    "ax = (hour_summary[\"mean\"]\n",
    "      .plot(kind=\"bar\", ylim=(0, None), color=\"black\", title=title,\n",
    "            yerr=yspread, legend=True, figsize=(12, 8)))\n",
    "ax.set(ylabel=\"Concentration in µg/m³\")\n",
    "ax.xaxis.grid(False);"
   ]
  },
  {
   "cell_type": "code",
   "execution_count": null,
   "metadata": {},
   "outputs": [],
   "source": [
    "hour_summary"
   ]
  }
 ],
 "metadata": {
  "kernelspec": {
   "display_name": "Python 3",
   "language": "python",
   "name": "python3"
  },
  "language_info": {
   "codemirror_mode": {
    "name": "ipython",
    "version": 3
   },
   "file_extension": ".py",
   "mimetype": "text/x-python",
   "name": "python",
   "nbconvert_exporter": "python",
   "pygments_lexer": "ipython3",
   "version": "3.7.1"
  }
 },
 "nbformat": 4,
 "nbformat_minor": 2
}
